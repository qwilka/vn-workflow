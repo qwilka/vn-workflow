{
 "cells": [
  {
   "cell_type": "markdown",
   "id": "85b002bb",
   "metadata": {},
   "source": [
    "parameter study grid search"
   ]
  },
  {
   "cell_type": "code",
   "execution_count": 1,
   "id": "f119ca6f",
   "metadata": {},
   "outputs": [],
   "source": [
    "import numpy as np"
   ]
  },
  {
   "cell_type": "code",
   "execution_count": 2,
   "id": "a47c1090",
   "metadata": {},
   "outputs": [],
   "source": [
    "a = [1,2,3,4]\n",
    "b = [11,12,13]\n",
    "c = [21,22]"
   ]
  },
  {
   "cell_type": "code",
   "execution_count": 3,
   "id": "a0fb4199",
   "metadata": {
    "scrolled": true
   },
   "outputs": [
    {
     "data": {
      "text/plain": [
       "(array([1, 1, 1, 1, 1, 1, 2, 2, 2, 2, 2, 2, 3, 3, 3, 3, 3, 3, 4, 4, 4, 4,\n",
       "        4, 4]),\n",
       " array([1, 1, 1, 1, 1, 1, 2, 2, 2, 2, 2, 2, 3, 3, 3, 3, 3, 3, 4, 4, 4, 4,\n",
       "        4, 4]))"
      ]
     },
     "execution_count": 3,
     "metadata": {},
     "output_type": "execute_result"
    }
   ],
   "source": [
    "m= np.repeat(a, len(b)*len(c))\n",
    "x = np.tile(m, 1)\n",
    "m, x"
   ]
  },
  {
   "cell_type": "code",
   "execution_count": 4,
   "id": "5ba9d71e",
   "metadata": {},
   "outputs": [
    {
     "data": {
      "text/plain": [
       "(array([11, 11, 12, 12, 13, 13]),\n",
       " array([11, 11, 12, 12, 13, 13, 11, 11, 12, 12, 13, 13, 11, 11, 12, 12, 13,\n",
       "        13, 11, 11, 12, 12, 13, 13]))"
      ]
     },
     "execution_count": 4,
     "metadata": {},
     "output_type": "execute_result"
    }
   ],
   "source": [
    "#m = np.tile(b, 4)\n",
    "m = np.repeat(b, len(c))\n",
    "y = np.tile(m, len(a))\n",
    "m, y"
   ]
  },
  {
   "cell_type": "code",
   "execution_count": 5,
   "id": "2d17b2a8",
   "metadata": {},
   "outputs": [
    {
     "data": {
      "text/plain": [
       "(array([21, 22]),\n",
       " array([21, 22, 21, 22, 21, 22, 21, 22, 21, 22, 21, 22, 21, 22, 21, 22, 21,\n",
       "        22, 21, 22, 21, 22, 21, 22]))"
      ]
     },
     "execution_count": 5,
     "metadata": {},
     "output_type": "execute_result"
    }
   ],
   "source": [
    "m= np.repeat(c, 1)\n",
    "z = np.tile(m, len(a)*len(b))\n",
    "m, z"
   ]
  },
  {
   "cell_type": "code",
   "execution_count": 6,
   "id": "a745b58f",
   "metadata": {
    "scrolled": true
   },
   "outputs": [
    {
     "data": {
      "text/plain": [
       "(array([1, 1, 1, 1, 1, 1, 2, 2, 2, 2, 2, 2, 3, 3, 3, 3, 3, 3, 4, 4, 4, 4,\n",
       "        4, 4]),\n",
       " array([11, 11, 12, 12, 13, 13, 11, 11, 12, 12, 13, 13, 11, 11, 12, 12, 13,\n",
       "        13, 11, 11, 12, 12, 13, 13]),\n",
       " array([21, 22, 21, 22, 21, 22, 21, 22, 21, 22, 21, 22, 21, 22, 21, 22, 21,\n",
       "        22, 21, 22, 21, 22, 21, 22]))"
      ]
     },
     "execution_count": 6,
     "metadata": {},
     "output_type": "execute_result"
    }
   ],
   "source": [
    "x, y, z"
   ]
  },
  {
   "cell_type": "code",
   "execution_count": 7,
   "id": "ce19ee00",
   "metadata": {},
   "outputs": [
    {
     "name": "stdout",
     "output_type": "stream",
     "text": [
      "[] [3, 2]\n",
      "1.0 6\n",
      "[4] [2]\n",
      "4 2\n",
      "[4, 3] []\n",
      "12 1.0\n"
     ]
    },
    {
     "data": {
      "text/plain": [
       "[4, 3, 2]"
      ]
     },
     "execution_count": 7,
     "metadata": {},
     "output_type": "execute_result"
    }
   ],
   "source": [
    "#a = [1,2,3,4]\n",
    "#b = [21,22]\n",
    "#c = [31,32,33]\n",
    "arrs = [a, b, c]\n",
    "arr_len = []\n",
    "for arr in arrs:\n",
    "    arr_len.append(len(arr))\n",
    "for ii, arr in enumerate(arrs):\n",
    "    print(arr_len[slice(0,ii)], arr_len[slice(ii+1,None)])\n",
    "    print(np.prod(arr_len[slice(0,ii)]), np.prod(arr_len[slice(ii+1,None)]))\n",
    "#for ii, arr in enumerate(arrs):\n",
    "#    print(arr_len[slice(ii,None)])\n",
    "arr_len"
   ]
  },
  {
   "cell_type": "code",
   "execution_count": 8,
   "id": "d9799320",
   "metadata": {},
   "outputs": [],
   "source": [
    "def parameter_study(*arrs):\n",
    "    arr_len = []\n",
    "    for arr in arrs:\n",
    "        arr_len.append(len(arr))\n",
    "    for ii, arr in enumerate(arrs):\n",
    "        if ii==0:\n",
    "            continue\n",
    "    pass"
   ]
  },
  {
   "cell_type": "code",
   "execution_count": 9,
   "id": "af5bbb5e",
   "metadata": {},
   "outputs": [],
   "source": [
    "r_pipe_soil = np.array([0.6, 0.7,0.8,0.9])\n",
    "phi_seabed = np.array([20.0, 30.0, 41.0, 44.0])"
   ]
  }
 ],
 "metadata": {
  "kernelspec": {
   "display_name": "Python 3 (ipykernel)",
   "language": "python",
   "name": "python3"
  },
  "language_info": {
   "codemirror_mode": {
    "name": "ipython",
    "version": 3
   },
   "file_extension": ".py",
   "mimetype": "text/x-python",
   "name": "python",
   "nbconvert_exporter": "python",
   "pygments_lexer": "ipython3",
   "version": "3.9.13"
  }
 },
 "nbformat": 4,
 "nbformat_minor": 5
}
